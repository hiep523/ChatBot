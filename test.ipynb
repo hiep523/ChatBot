{
  "nbformat": 4,
  "nbformat_minor": 0,
  "metadata": {
    "colab": {
      "name": "Untitled1.ipynb",
      "provenance": [],
      "authorship_tag": "ABX9TyOwVTn43HwkQmJTvzslWPRn",
      "include_colab_link": true
    },
    "kernelspec": {
      "name": "python3",
      "display_name": "Python 3"
    }
  },
  "cells": [
    {
      "cell_type": "markdown",
      "metadata": {
        "id": "view-in-github",
        "colab_type": "text"
      },
      "source": [
        "<a href=\"https://colab.research.google.com/github/hiep523/ChatBot/blob/master/test.ipynb\" target=\"_parent\"><img src=\"https://colab.research.google.com/assets/colab-badge.svg\" alt=\"Open In Colab\"/></a>"
      ]
    },
    {
      "cell_type": "code",
      "metadata": {
        "id": "kKszXHRVqMaf"
      },
      "source": [
        "print('welcome')"
      ],
      "execution_count": null,
      "outputs": []
    },
    {
      "cell_type": "markdown",
      "metadata": {
        "id": "DsA4vyQuqR4K"
      },
      "source": [
        "#bài tập nè!\n",
        "##bài 1 nè!\n",
        "###bài 1.0 nè!\n",
        "###bài 1.1 nè!\n",
        "##bài 2 nè!\n",
        "###bài 2.0 nè!\n",
        "###bài 2.1 nè!"
      ]
    },
    {
      "cell_type": "markdown",
      "metadata": {
        "id": "0hEQYasSq8bC"
      },
      "source": [
        ""
      ]
    }
  ]
}